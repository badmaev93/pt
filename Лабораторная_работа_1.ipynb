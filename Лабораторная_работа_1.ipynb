{
  "nbformat": 4,
  "nbformat_minor": 0,
  "metadata": {
    "colab": {
      "provenance": [],
      "collapsed_sections": []
    },
    "kernelspec": {
      "name": "python3",
      "display_name": "Python 3"
    },
    "language_info": {
      "name": "python"
    }
  },
  "cells": [
    {
      "cell_type": "markdown",
      "source": [
        "**Задача:**\n",
        "\n",
        "В первом ящике находятся 10 мячей, из которых 7 - белые. Во втором ящике - 11 мячей, из которых 9 белых. Из каждого ящика вытаскивают случайным образом по 2 мяча.\n",
        "\n",
        "1) Какова вероятность того, что все мячи - белые?\n",
        "\n",
        "2) Какова вероятость того, что ровно 2 мяча - белые? \n",
        "\n",
        "3) Какова вероятность, что хотя бы 1 мяч белый?"
      ],
      "metadata": {
        "id": "aE7sI_fpDFD2"
      }
    },
    {
      "cell_type": "code",
      "execution_count": null,
      "metadata": {
        "id": "hgnn9VsXAv71"
      },
      "outputs": [],
      "source": [
        "from math import factorial\n",
        "def combinations(n ,k):\n",
        "    return int (factorial(n)/(factorial(k) * factorial(n - k)))"
      ]
    },
    {
      "cell_type": "markdown",
      "source": [
        "**1) Какова вероятность того, что все мячи - белые?**\n",
        "\n",
        "Для этого нужно умножить вероятность вытянуть белые мячи из 1-ой и 2-ой корзины."
      ],
      "metadata": {
        "id": "_3R_urJWllui"
      }
    },
    {
      "cell_type": "code",
      "source": [
        "P1 = (combinations(7,2)/combinations(10,2)) * (combinations(9,2)/combinations(11,2))\n",
        "P1\n",
        "\n"
      ],
      "metadata": {
        "colab": {
          "base_uri": "https://localhost:8080/"
        },
        "id": "quDJ5Urt-V2f",
        "outputId": "2712b346-b336-4792-de64-f6243c66c75f"
      },
      "execution_count": null,
      "outputs": [
        {
          "output_type": "execute_result",
          "data": {
            "text/plain": [
              "0.3054545454545455"
            ]
          },
          "metadata": {},
          "execution_count": 15
        }
      ]
    },
    {
      "cell_type": "markdown",
      "source": [
        "**2) Какова вероятость того, что ровно 2 мяча - белые?**\n",
        "\n",
        "Варианты, при которых ровно 2 мяча из вытянутых будут белые:\n",
        "1.   (бб)(чч) \n",
        "2.   (бч)(бч) или (бч)(чб) или (чб)(бч) или (чб)(чб)\n",
        "3.   (чч)(бб)\n",
        "\n",
        "Для ответа найдем сумму вероятностей этих событий."
      ],
      "metadata": {
        "id": "7t-5qEp-EfJW"
      }
    },
    {
      "cell_type": "code",
      "source": [
        "ББ1 = combinations(7,2)/combinations(10,2)                      #вероятность вытянуть 2 белых из 1-ой корзины\n",
        "ЧЧ2 = combinations (2,2)/combinations(11,2)                     #вероятность вытянуть 2 черных из 1-ой корзины\n",
        "БЧ1 = (combinations (3,1)*combinations(7,1))/combinations(10,2) #вероятность вытянуть белый и черный из 1-ой корзины\n",
        "БЧ2 = (combinations (2,1)*combinations(9,1))/combinations(11,2) #вероятность вытянуть белый и черный из 2-ой корзины\n",
        "ЧЧ1 = combinations(3, 2)/combinations(10,2)                     #вероятность вытянуть 2 черных из 1-ой корзины\n",
        "ББ2 = combinations(9,2)/combinations(11,2)                      #вероятность вытянуть 2 белых из 2-ой корзины\n",
        "\n",
        "ББЧЧ = ББ1 * ЧЧ2                                                #Вероятность варианта 1 (бб)(чч)\n",
        "БЧБЧ = БЧ1 * БЧ2                                                #Вероятность варианта 2 (бч)(бч)\n",
        "ЧЧББ = ЧЧ1 * ББ2                                                #Вероятность варианта 3 (чч)(бб)\n",
        "\n",
        "P2 = ББЧЧ + БЧБЧ + ЧЧББ\n",
        "P2"
      ],
      "metadata": {
        "colab": {
          "base_uri": "https://localhost:8080/"
        },
        "id": "rM6iqBdpE7ym",
        "outputId": "619f33be-9593-4ecf-98af-fca6f4250b54"
      },
      "execution_count": null,
      "outputs": [
        {
          "output_type": "execute_result",
          "data": {
            "text/plain": [
              "0.20484848484848486"
            ]
          },
          "metadata": {},
          "execution_count": 25
        }
      ]
    },
    {
      "cell_type": "markdown",
      "source": [
        "**3) Какова вероятность, что хотя бы 1 мяч белый?**\n",
        "\n",
        "Вероятность достоверного события минус вероятность вытянуть все черные."
      ],
      "metadata": {
        "id": "ErlwDBgBRiIZ"
      }
    },
    {
      "cell_type": "code",
      "source": [
        "P3 = 1 - ЧЧ1 * ЧЧ2\n",
        "P3"
      ],
      "metadata": {
        "colab": {
          "base_uri": "https://localhost:8080/"
        },
        "id": "i0ycwEXsR7SG",
        "outputId": "302be1b6-915d-434b-a7ad-e3434df69e99"
      },
      "execution_count": null,
      "outputs": [
        {
          "output_type": "execute_result",
          "data": {
            "text/plain": [
              "0.9987878787878788"
            ]
          },
          "metadata": {},
          "execution_count": 27
        }
      ]
    }
  ]
}
