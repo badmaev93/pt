{
  "nbformat": 4,
  "nbformat_minor": 0,
  "metadata": {
    "colab": {
      "provenance": [],
      "collapsed_sections": []
    },
    "kernelspec": {
      "name": "python3",
      "display_name": "Python 3"
    },
    "language_info": {
      "name": "python"
    }
  },
  "cells": [
    {
      "cell_type": "markdown",
      "source": [
        "**1.**\n",
        "\n",
        "Даны значения величины заработной платы заемщиков банка (zp) и значения их поведенческого кредитного скоринга (ks): \n",
        "\n",
        "zp = [35, 45, 190, 200, 40, 70, 54, 150, 120, 110],\n",
        "\n",
        "ks = [401, 574, 874, 919, 459, 739, 653, 902, 746, 832]. \n",
        "\n",
        "Используя математические операции, посчитать коэффициенты линейной регрессии, приняв за X заработную плату (то есть, zp - признак), а за y - значения скорингового балла (то есть, ks - целевая переменная). \n",
        "\n",
        "Произвести расчет как с использованием intercept с учетом b0, так и без."
      ],
      "metadata": {
        "id": "6WuS-_PBSRYt"
      }
    },
    {
      "cell_type": "code",
      "source": [
        "import numpy as np\n",
        "zp = np.array([35, 45, 190, 200, 40, 70, 54, 150, 120, 110])                    #значения величины заработной платы\n",
        "ks = np.array([401, 574, 874, 919, 459, 739, 653, 902, 746, 832])               #значения кредитного скоринга\n",
        "\n",
        "коэф_b = (np.mean(zp*ks) - np.mean(zp)*np.mean(ks))/(np.mean(zp**2) - np.mean(zp)**2) \n",
        "коэф_b                                                                          #значение коэф. b"
      ],
      "metadata": {
        "colab": {
          "base_uri": "https://localhost:8080/"
        },
        "id": "IfZM5Lb8S52G",
        "outputId": "07443b3e-7c15-4b7b-c985-7a520750ef67"
      },
      "execution_count": 42,
      "outputs": [
        {
          "output_type": "execute_result",
          "data": {
            "text/plain": [
              "2.620538882402765"
            ]
          },
          "metadata": {},
          "execution_count": 42
        }
      ]
    },
    {
      "cell_type": "code",
      "source": [
        "коэф_a = ks.mean() - коэф_b * zp.mean()\n",
        "коэф_a                                                                          #значение коэф. a"
      ],
      "metadata": {
        "colab": {
          "base_uri": "https://localhost:8080/"
        },
        "id": "qInXZeyHVWwC",
        "outputId": "552acde3-9173-4b56-e35d-329ee9b12ca5"
      },
      "execution_count": 4,
      "outputs": [
        {
          "output_type": "execute_result",
          "data": {
            "text/plain": [
              "444.1773573243596"
            ]
          },
          "metadata": {},
          "execution_count": 4
        }
      ]
    },
    {
      "cell_type": "code",
      "source": [
        "#График:\n",
        "import matplotlib.pyplot as plt\n",
        "plt.scatter(zp, ks)\n",
        "plt.plot(zp, коэф_a + коэф_b * zp)"
      ],
      "metadata": {
        "colab": {
          "base_uri": "https://localhost:8080/",
          "height": 282
        },
        "id": "mZk7i5flWnaA",
        "outputId": "5485adb5-8501-4792-b061-f447791d2c13"
      },
      "execution_count": 6,
      "outputs": [
        {
          "output_type": "execute_result",
          "data": {
            "text/plain": [
              "[<matplotlib.lines.Line2D at 0x7f3df2456dd0>]"
            ]
          },
          "metadata": {},
          "execution_count": 6
        },
        {
          "output_type": "display_data",
          "data": {
            "text/plain": [
              "<Figure size 432x288 with 1 Axes>"
            ],
            "image/png": "[encoded data removed]"
          },
          "metadata": {
            "needs_background": "light"
          }
        }
      ]
    },
    {
      "cell_type": "code",
      "source": [
        "mse_1 = np.sum(((коэф_a + коэф_b * zp) - ks) ** 2 / 10)\n",
        "mse_1"
      ],
      "metadata": {
        "colab": {
          "base_uri": "https://localhost:8080/"
        },
        "id": "sWVHU9fXW6th",
        "outputId": "bc14f780-dff2-4e79-b051-9dad00c018e9"
      },
      "execution_count": 48,
      "outputs": [
        {
          "output_type": "execute_result",
          "data": {
            "text/plain": [
              "6470.414201176659"
            ]
          },
          "metadata": {},
          "execution_count": 48
        }
      ]
    },
    {
      "cell_type": "markdown",
      "source": [
        "*Без intercept:*"
      ],
      "metadata": {
        "id": "8mMVff5qeP0n"
      }
    },
    {
      "cell_type": "code",
      "source": [
        "zp = zp.reshape(1,len(zp))\n",
        "ks = ks.reshape(1,len(ks))\n",
        "np.dot(np.dot(np.linalg.inv(np.dot(zp, zp.T)), zp), ks.T)"
      ],
      "metadata": {
        "colab": {
          "base_uri": "https://localhost:8080/"
        },
        "id": "cddHw_lCaXZy",
        "outputId": "50881611-9550-43c5-fa22-0014dc86896c"
      },
      "execution_count": 43,
      "outputs": [
        {
          "output_type": "execute_result",
          "data": {
            "text/plain": [
              "array([[5.88982042]])"
            ]
          },
          "metadata": {},
          "execution_count": 43
        }
      ]
    },
    {
      "cell_type": "code",
      "source": [
        "mse_2 = np.sum(((0 + 5.88982042 * zp) - ks) ** 2 / 10)\n",
        "mse_2"
      ],
      "metadata": {
        "colab": {
          "base_uri": "https://localhost:8080/"
        },
        "id": "lxFPsyBfdWOw",
        "outputId": "9c9c158d-943e-4202-82b6-0540a474bf1c"
      },
      "execution_count": 49,
      "outputs": [
        {
          "output_type": "execute_result",
          "data": {
            "text/plain": [
              "56516.85841571942"
            ]
          },
          "metadata": {},
          "execution_count": 49
        }
      ]
    },
    {
      "cell_type": "code",
      "source": [
        "#коэффициенты a и b с помощью numpy:\n",
        "zp = np.vstack([np.ones((1, 10)), zp])\n",
        "np.dot(np.dot(np.linalg.inv(np.dot(zp, zp.T)), zp), ks.T)                       \n"
      ],
      "metadata": {
        "colab": {
          "base_uri": "https://localhost:8080/"
        },
        "id": "YS72XjOqddh3",
        "outputId": "a03d8b8d-dfef-4f79-bbd6-66c01671064f"
      },
      "execution_count": 50,
      "outputs": [
        {
          "output_type": "execute_result",
          "data": {
            "text/plain": [
              "array([[444.17735732],\n",
              "       [  2.62053888]])"
            ]
          },
          "metadata": {},
          "execution_count": 50
        }
      ]
    },
    {
      "cell_type": "markdown",
      "source": [
        "Посчитать коэффициент линейной регрессии при заработной плате (zp), используя градиентный спуск (без intercept без b0).\n",
        "\n",
        "Указания к решению: \n",
        "\n",
        "alpha=1e-6\n",
        "\n",
        "Количество итераций: более 4000\n",
        "\n",
        "Матрицы выводить\n"
      ],
      "metadata": {
        "id": "EyHrCPjcSUg6"
      }
    },
    {
      "cell_type": "code",
      "source": [
        "zp = np.array([35, 45, 190, 200, 40, 70, 54, 150, 120, 110])\n",
        "ks = np.array([401, 574, 874, 919, 459, 739, 653, 902, 746, 832])\n",
        "alpha = 1e-6\n",
        "b1 = 0.1\n",
        "def mse_(w1, y=ks, X=zp, n=10):\n",
        "    return np.sum((b1 * X - y) ** 2) / n\n",
        "for i in range(5000):                                                #Количество итераций: 5000\n",
        "    fp = (1 / 10) * np.sum(2 * (b1 * zp - ks) * zp)\n",
        "    b1 -= alpha * fp\n",
        "    if i % 100 == 0:\n",
        "        print(f'iteration: {i}, b1 : {b1}, mse: {mse_(b1) }')\n",
        "    "
      ],
      "metadata": {
        "colab": {
          "base_uri": "https://localhost:8080/"
        },
        "id": "Z5GhV1Bwe69I",
        "outputId": "222f4303-4750-4539-f461-d9c29ae09288"
      },
      "execution_count": 54,
      "outputs": [
        {
          "output_type": "stream",
          "name": "stdout",
          "text": [
            "iteration: 0, b1 : 0.25952808000000005, mse: 493237.7212546963\n",
            "iteration: 100, b1 : 5.54537842245223, mse: 58151.31823171113\n",
            "iteration: 200, b1 : 5.868748638669329, mse: 56522.97550129376\n",
            "iteration: 300, b1 : 5.888531320728348, mse: 56516.88130936019\n",
            "iteration: 400, b1 : 5.8897415574471985, mse: 56516.85850140053\n",
            "iteration: 500, b1 : 5.889815595583751, mse: 56516.858416040064\n",
            "iteration: 600, b1 : 5.889820124983314, mse: 56516.85841572062\n",
            "iteration: 700, b1 : 5.889820402076462, mse: 56516.85841571941\n",
            "iteration: 800, b1 : 5.88982041902807, mse: 56516.8584157194\n",
            "iteration: 900, b1 : 5.889820420065112, mse: 56516.85841571941\n",
            "iteration: 1000, b1 : 5.8898204201285544, mse: 56516.85841571941\n",
            "iteration: 1100, b1 : 5.889820420132437, mse: 56516.85841571943\n",
            "iteration: 1200, b1 : 5.889820420132673, mse: 56516.85841571943\n",
            "iteration: 1300, b1 : 5.889820420132673, mse: 56516.85841571943\n",
            "iteration: 1400, b1 : 5.889820420132673, mse: 56516.85841571943\n",
            "iteration: 1500, b1 : 5.889820420132673, mse: 56516.85841571943\n",
            "iteration: 1600, b1 : 5.889820420132673, mse: 56516.85841571943\n",
            "iteration: 1700, b1 : 5.889820420132673, mse: 56516.85841571943\n",
            "iteration: 1800, b1 : 5.889820420132673, mse: 56516.85841571943\n",
            "iteration: 1900, b1 : 5.889820420132673, mse: 56516.85841571943\n",
            "iteration: 2000, b1 : 5.889820420132673, mse: 56516.85841571943\n",
            "iteration: 2100, b1 : 5.889820420132673, mse: 56516.85841571943\n",
            "iteration: 2200, b1 : 5.889820420132673, mse: 56516.85841571943\n",
            "iteration: 2300, b1 : 5.889820420132673, mse: 56516.85841571943\n",
            "iteration: 2400, b1 : 5.889820420132673, mse: 56516.85841571943\n",
            "iteration: 2500, b1 : 5.889820420132673, mse: 56516.85841571943\n",
            "iteration: 2600, b1 : 5.889820420132673, mse: 56516.85841571943\n",
            "iteration: 2700, b1 : 5.889820420132673, mse: 56516.85841571943\n",
            "iteration: 2800, b1 : 5.889820420132673, mse: 56516.85841571943\n",
            "iteration: 2900, b1 : 5.889820420132673, mse: 56516.85841571943\n",
            "iteration: 3000, b1 : 5.889820420132673, mse: 56516.85841571943\n",
            "iteration: 3100, b1 : 5.889820420132673, mse: 56516.85841571943\n",
            "iteration: 3200, b1 : 5.889820420132673, mse: 56516.85841571943\n",
            "iteration: 3300, b1 : 5.889820420132673, mse: 56516.85841571943\n",
            "iteration: 3400, b1 : 5.889820420132673, mse: 56516.85841571943\n",
            "iteration: 3500, b1 : 5.889820420132673, mse: 56516.85841571943\n",
            "iteration: 3600, b1 : 5.889820420132673, mse: 56516.85841571943\n",
            "iteration: 3700, b1 : 5.889820420132673, mse: 56516.85841571943\n",
            "iteration: 3800, b1 : 5.889820420132673, mse: 56516.85841571943\n",
            "iteration: 3900, b1 : 5.889820420132673, mse: 56516.85841571943\n",
            "iteration: 4000, b1 : 5.889820420132673, mse: 56516.85841571943\n",
            "iteration: 4100, b1 : 5.889820420132673, mse: 56516.85841571943\n",
            "iteration: 4200, b1 : 5.889820420132673, mse: 56516.85841571943\n",
            "iteration: 4300, b1 : 5.889820420132673, mse: 56516.85841571943\n",
            "iteration: 4400, b1 : 5.889820420132673, mse: 56516.85841571943\n",
            "iteration: 4500, b1 : 5.889820420132673, mse: 56516.85841571943\n",
            "iteration: 4600, b1 : 5.889820420132673, mse: 56516.85841571943\n",
            "iteration: 4700, b1 : 5.889820420132673, mse: 56516.85841571943\n",
            "iteration: 4800, b1 : 5.889820420132673, mse: 56516.85841571943\n",
            "iteration: 4900, b1 : 5.889820420132673, mse: 56516.85841571943\n"
          ]
        }
      ]
    },
    {
      "cell_type": "markdown",
      "source": [
        "**3.** \n",
        "Однофакторный дисперсионный анализ\n",
        "\n",
        "Провести дисперсионный анализ для определения того, есть ли различия среднего роста среди взрослых футболистов, хоккеистов и штангистов. Даны значения роста в трех группах случайно выбранных спортсменов: \n",
        "\n",
        "Футболисты: 173, 175, 180, 178, 177, 185, 183, 182. \n",
        "\n",
        "Хоккеисты: 177, 179, 180, 188, 177, 172, 171, 184, 180. \n",
        "\n",
        "Штангисты: 172, 173, 169, 177, 166, 180, 178, 177, 172, 166, 170.\n"
      ],
      "metadata": {
        "id": "2_nLPaImSXrm"
      }
    },
    {
      "cell_type": "code",
      "source": [
        "футболисты = np.array([173, 175, 180, 178, 177, 185, 183, 182])\n",
        "хоккеисты = np.array([177, 179, 180, 188, 177, 172, 171, 184, 180])\n",
        "штангисты = np.array([172, 173, 169, 177, 166, 180, 178, 177, 172, 166, 170])\n",
        "\n",
        "print(f'Средний рост футболистов {футболисты.mean()}')\n",
        "print(f'Средний рост хоккеистов {хоккеисты.mean()}')\n",
        "print(f'Средний рост штангистов {штангисты.mean()}')"
      ],
      "metadata": {
        "colab": {
          "base_uri": "https://localhost:8080/"
        },
        "id": "q98Fj20iiDze",
        "outputId": "46abb624-61af-43e0-fb2e-fe7960b872bb"
      },
      "execution_count": 56,
      "outputs": [
        {
          "output_type": "stream",
          "name": "stdout",
          "text": [
            "Средний рост футболистов 179.125\n",
            "Средний рост хоккеистов 178.66666666666666\n",
            "Средний рост штангистов 172.72727272727272\n"
          ]
        }
      ]
    },
    {
      "cell_type": "code",
      "source": [
        "рост_всех = np.hstack((футболисты,хоккеисты, штангисты))\n",
        "средний_рост_всех = рост_всех.mean()\n",
        "средний_рост_всех"
      ],
      "metadata": {
        "colab": {
          "base_uri": "https://localhost:8080/"
        },
        "id": "wr95Sc_OjLD4",
        "outputId": "7b046736-0fee-407f-cac0-7956057b80b9"
      },
      "execution_count": 57,
      "outputs": [
        {
          "output_type": "execute_result",
          "data": {
            "text/plain": [
              "176.46428571428572"
            ]
          },
          "metadata": {},
          "execution_count": 57
        }
      ]
    },
    {
      "cell_type": "code",
      "source": [
        "all_s2 = np.sum((рост_всех - средний_рост_всех) ** 2)       \n",
        "s2f = (футболисты.mean() - средний_рост_всех) ** 2 * len(футболисты) + (хоккеисты.mean() - средний_рост_всех) ** 2 * len(хоккеисты) + (штангисты.mean() - рост_всех.mean()) ** 2 * len(штангисты)\n",
        "s2_ost = np.sum((футболисты - футболисты.mean()) ** 2) + np.sum((хоккеисты - хоккеисты.mean()) ** 2) + np.sum((штангисты - штангисты.mean()) ** 2)\n",
        "s2_ost + s2f"
      ],
      "metadata": {
        "colab": {
          "base_uri": "https://localhost:8080/"
        },
        "id": "fAyd8wsjjkZF",
        "outputId": "d99175b2-b195-4d98-817c-62ae91b1cc07"
      },
      "execution_count": 67,
      "outputs": [
        {
          "output_type": "execute_result",
          "data": {
            "text/plain": [
              "830.964285714286"
            ]
          },
          "metadata": {},
          "execution_count": 67
        }
      ]
    },
    {
      "cell_type": "code",
      "source": [
        "общая_дисперсия = all_s2/(len(рост_всех) - 1)\n",
        "общая_дисперсия"
      ],
      "metadata": {
        "colab": {
          "base_uri": "https://localhost:8080/"
        },
        "id": "8wwKwTIEk7L_",
        "outputId": "076aa522-c2d1-4e9d-e100-fa888680f40e"
      },
      "execution_count": 62,
      "outputs": [
        {
          "output_type": "execute_result",
          "data": {
            "text/plain": [
              "30.776455026455015"
            ]
          },
          "metadata": {},
          "execution_count": 62
        }
      ]
    },
    {
      "cell_type": "code",
      "source": [
        "факторная_дисперсия = s2f/(3 - 1)\n",
        "факторная_дисперсия"
      ],
      "metadata": {
        "colab": {
          "base_uri": "https://localhost:8080/"
        },
        "id": "4LTzb-Har5uj",
        "outputId": "c1659381-6493-4ac1-86bd-af13dbcdc64a"
      },
      "execution_count": 63,
      "outputs": [
        {
          "output_type": "execute_result",
          "data": {
            "text/plain": [
              "126.9537337662339"
            ]
          },
          "metadata": {},
          "execution_count": 63
        }
      ]
    },
    {
      "cell_type": "code",
      "source": [
        "остаточная_дисперсия = s2_ost/(len(рост_всех) - 3)\n",
        "остаточная_дисперсия"
      ],
      "metadata": {
        "colab": {
          "base_uri": "https://localhost:8080/"
        },
        "id": "BLOT-ez6sEvL",
        "outputId": "de6ac423-4c4c-4f0e-cf76-6f3c425f402a"
      },
      "execution_count": 64,
      "outputs": [
        {
          "output_type": "execute_result",
          "data": {
            "text/plain": [
              "23.08227272727273"
            ]
          },
          "metadata": {},
          "execution_count": 64
        }
      ]
    },
    {
      "cell_type": "code",
      "source": [
        "F_m = факторная_дисперсия / остаточная_дисперсия\n",
        "F_m"
      ],
      "metadata": {
        "colab": {
          "base_uri": "https://localhost:8080/"
        },
        "id": "NRyR6zDBsaCP",
        "outputId": "ac291d24-d485-4ff9-841c-23f96df10758"
      },
      "execution_count": 68,
      "outputs": [
        {
          "output_type": "execute_result",
          "data": {
            "text/plain": [
              "5.500053450812598"
            ]
          },
          "metadata": {},
          "execution_count": 68
        }
      ]
    },
    {
      "cell_type": "code",
      "source": [
        "alpha = 0.05\n",
        "d_f1 = 3 - 1\n",
        "d_f2 = len(рост_всех) - 3\n",
        "d_f1, d_f2"
      ],
      "metadata": {
        "colab": {
          "base_uri": "https://localhost:8080/"
        },
        "id": "BhoccbFQsjXe",
        "outputId": "e6ff227c-d7c2-498a-cafa-30fdae10b0af"
      },
      "execution_count": 66,
      "outputs": [
        {
          "output_type": "execute_result",
          "data": {
            "text/plain": [
              "(2, 25)"
            ]
          },
          "metadata": {},
          "execution_count": 66
        }
      ]
    },
    {
      "cell_type": "code",
      "source": [
        "F_p = 3.4928"
      ],
      "metadata": {
        "id": "O_UQyjRrsrOV"
      },
      "execution_count": null,
      "outputs": []
    },
    {
      "cell_type": "markdown",
      "source": [
        "F_p не больше F_m\n",
        "\n",
        "Следовательно, различие между выборками существено\n",
        "\n",
        "\n"
      ],
      "metadata": {
        "id": "qo2PWsJzsz0O"
      }
    }
  ]
}